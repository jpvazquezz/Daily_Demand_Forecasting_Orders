{
 "cells": [
  {
   "cell_type": "markdown",
   "metadata": {},
   "source": [
    "# _Daily Demand Forecasting Orders - Regression model_"
   ]
  },
  {
   "cell_type": "markdown",
   "metadata": {},
   "source": [
    "O objetivo aqui é criar um modelo de regressão linear capaz de prever o total de pedidos diários de uma empresa de logística."
   ]
  },
  {
   "cell_type": "markdown",
   "metadata": {},
   "source": [
    "### _Setup_"
   ]
  },
  {
   "cell_type": "code",
   "execution_count": 2,
   "metadata": {},
   "outputs": [],
   "source": [
    "import numpy as np\n",
    "import pandas as pd\n",
    "import seaborn as sns\n",
    "import matplotlib.pyplot as plt\n",
    "from sklearn.model_selection import train_test_split\n",
    "from sklearn.preprocessing import StandardScaler\n",
    "from sklearn.linear_model import LinearRegression, Ridge, Lasso\n",
    "from sklearn.metrics import mean_squared_error, median_absolute_error, r2_score"
   ]
  },
  {
   "cell_type": "code",
   "execution_count": 3,
   "metadata": {},
   "outputs": [],
   "source": [
    "demand = pd.read_csv('Daily_Demand_Forecasting_Orders.csv', sep=';')"
   ]
  },
  {
   "cell_type": "code",
   "execution_count": 4,
   "metadata": {},
   "outputs": [],
   "source": [
    "colunas = ['week_of_month', 'day_of_the_week', 'non_urgent_order', 'urgent_order','orderA', 'orderB', 'orderC', 'fiscal_order', 'order_traffic','banking_order1', 'banking_order2','banking_order3', 'target']\n",
    "demand.columns = colunas"
   ]
  },
  {
   "cell_type": "markdown",
   "metadata": {},
   "source": [
    "### Visão Geral"
   ]
  },
  {
   "cell_type": "code",
   "execution_count": 22,
   "metadata": {},
   "outputs": [
    {
     "data": {
      "text/plain": [
       "(60, 13)"
      ]
     },
     "execution_count": 22,
     "metadata": {},
     "output_type": "execute_result"
    }
   ],
   "source": [
    "# formato do dataset\n",
    "demand.shape"
   ]
  },
  {
   "cell_type": "code",
   "execution_count": 23,
   "metadata": {},
   "outputs": [
    {
     "data": {
      "text/plain": [
       "week_of_month         int64\n",
       "day_of_the_week       int64\n",
       "non_urgent_order    float64\n",
       "urgent_order        float64\n",
       "orderA              float64\n",
       "orderB              float64\n",
       "orderC              float64\n",
       "fiscal_order        float64\n",
       "order_traffic         int64\n",
       "banking_order1        int64\n",
       "banking_order2        int64\n",
       "banking_order3        int64\n",
       "target              float64\n",
       "dtype: object"
      ]
     },
     "execution_count": 23,
     "metadata": {},
     "output_type": "execute_result"
    }
   ],
   "source": [
    "# Tipos de dados\n",
    "demand.dtypes"
   ]
  },
  {
   "cell_type": "code",
   "execution_count": 24,
   "metadata": {},
   "outputs": [
    {
     "data": {
      "text/plain": [
       "week_of_month       0\n",
       "day_of_the_week     0\n",
       "non_urgent_order    0\n",
       "urgent_order        0\n",
       "orderA              0\n",
       "orderB              0\n",
       "orderC              0\n",
       "fiscal_order        0\n",
       "order_traffic       0\n",
       "banking_order1      0\n",
       "banking_order2      0\n",
       "banking_order3      0\n",
       "target              0\n",
       "dtype: int64"
      ]
     },
     "execution_count": 24,
     "metadata": {},
     "output_type": "execute_result"
    }
   ],
   "source": [
    "# Valores faltantes\n",
    "demand.isna().sum()"
   ]
  },
  {
   "cell_type": "code",
   "execution_count": 26,
   "metadata": {},
   "outputs": [
    {
     "data": {
      "text/html": [
       "<div>\n",
       "<style scoped>\n",
       "    .dataframe tbody tr th:only-of-type {\n",
       "        vertical-align: middle;\n",
       "    }\n",
       "\n",
       "    .dataframe tbody tr th {\n",
       "        vertical-align: top;\n",
       "    }\n",
       "\n",
       "    .dataframe thead th {\n",
       "        text-align: right;\n",
       "    }\n",
       "</style>\n",
       "<table border=\"1\" class=\"dataframe\">\n",
       "  <thead>\n",
       "    <tr style=\"text-align: right;\">\n",
       "      <th></th>\n",
       "      <th>week_of_month</th>\n",
       "      <th>day_of_the_week</th>\n",
       "      <th>non_urgent_order</th>\n",
       "      <th>urgent_order</th>\n",
       "      <th>orderA</th>\n",
       "      <th>orderB</th>\n",
       "      <th>orderC</th>\n",
       "      <th>fiscal_order</th>\n",
       "      <th>order_traffic</th>\n",
       "      <th>banking_order1</th>\n",
       "      <th>banking_order2</th>\n",
       "      <th>banking_order3</th>\n",
       "      <th>target</th>\n",
       "    </tr>\n",
       "  </thead>\n",
       "  <tbody>\n",
       "    <tr>\n",
       "      <th>count</th>\n",
       "      <td>60.000000</td>\n",
       "      <td>60.000000</td>\n",
       "      <td>60.000000</td>\n",
       "      <td>60.000000</td>\n",
       "      <td>60.000000</td>\n",
       "      <td>60.000000</td>\n",
       "      <td>60.000000</td>\n",
       "      <td>60.000000</td>\n",
       "      <td>60.000000</td>\n",
       "      <td>60.000000</td>\n",
       "      <td>60.000000</td>\n",
       "      <td>60.000000</td>\n",
       "      <td>60.000000</td>\n",
       "    </tr>\n",
       "    <tr>\n",
       "      <th>mean</th>\n",
       "      <td>3.016667</td>\n",
       "      <td>4.033333</td>\n",
       "      <td>172.554933</td>\n",
       "      <td>118.920850</td>\n",
       "      <td>52.112217</td>\n",
       "      <td>109.229850</td>\n",
       "      <td>139.531250</td>\n",
       "      <td>77.396133</td>\n",
       "      <td>44504.350000</td>\n",
       "      <td>46640.833333</td>\n",
       "      <td>79401.483333</td>\n",
       "      <td>23114.633333</td>\n",
       "      <td>300.873317</td>\n",
       "    </tr>\n",
       "    <tr>\n",
       "      <th>std</th>\n",
       "      <td>1.282102</td>\n",
       "      <td>1.401775</td>\n",
       "      <td>69.505788</td>\n",
       "      <td>27.170929</td>\n",
       "      <td>18.829911</td>\n",
       "      <td>50.741388</td>\n",
       "      <td>41.442932</td>\n",
       "      <td>186.502470</td>\n",
       "      <td>12197.905134</td>\n",
       "      <td>45220.736293</td>\n",
       "      <td>40504.420041</td>\n",
       "      <td>13148.039829</td>\n",
       "      <td>89.602041</td>\n",
       "    </tr>\n",
       "    <tr>\n",
       "      <th>min</th>\n",
       "      <td>1.000000</td>\n",
       "      <td>2.000000</td>\n",
       "      <td>43.651000</td>\n",
       "      <td>77.371000</td>\n",
       "      <td>21.826000</td>\n",
       "      <td>25.125000</td>\n",
       "      <td>74.372000</td>\n",
       "      <td>0.000000</td>\n",
       "      <td>11992.000000</td>\n",
       "      <td>3452.000000</td>\n",
       "      <td>16411.000000</td>\n",
       "      <td>7679.000000</td>\n",
       "      <td>129.412000</td>\n",
       "    </tr>\n",
       "    <tr>\n",
       "      <th>25%</th>\n",
       "      <td>2.000000</td>\n",
       "      <td>3.000000</td>\n",
       "      <td>125.348000</td>\n",
       "      <td>100.888000</td>\n",
       "      <td>39.456250</td>\n",
       "      <td>74.916250</td>\n",
       "      <td>113.632250</td>\n",
       "      <td>1.243250</td>\n",
       "      <td>34994.250000</td>\n",
       "      <td>20130.000000</td>\n",
       "      <td>50680.500000</td>\n",
       "      <td>12609.750000</td>\n",
       "      <td>238.195500</td>\n",
       "    </tr>\n",
       "    <tr>\n",
       "      <th>50%</th>\n",
       "      <td>3.000000</td>\n",
       "      <td>4.000000</td>\n",
       "      <td>151.062500</td>\n",
       "      <td>113.114500</td>\n",
       "      <td>47.166500</td>\n",
       "      <td>99.482000</td>\n",
       "      <td>127.990000</td>\n",
       "      <td>7.831500</td>\n",
       "      <td>44312.000000</td>\n",
       "      <td>32527.500000</td>\n",
       "      <td>67181.000000</td>\n",
       "      <td>18011.500000</td>\n",
       "      <td>288.034500</td>\n",
       "    </tr>\n",
       "    <tr>\n",
       "      <th>75%</th>\n",
       "      <td>4.000000</td>\n",
       "      <td>5.000000</td>\n",
       "      <td>194.606500</td>\n",
       "      <td>132.108250</td>\n",
       "      <td>58.463750</td>\n",
       "      <td>132.171000</td>\n",
       "      <td>160.107500</td>\n",
       "      <td>20.360750</td>\n",
       "      <td>52111.750000</td>\n",
       "      <td>45118.750000</td>\n",
       "      <td>94787.750000</td>\n",
       "      <td>31047.750000</td>\n",
       "      <td>334.237250</td>\n",
       "    </tr>\n",
       "    <tr>\n",
       "      <th>max</th>\n",
       "      <td>5.000000</td>\n",
       "      <td>6.000000</td>\n",
       "      <td>435.304000</td>\n",
       "      <td>223.270000</td>\n",
       "      <td>118.178000</td>\n",
       "      <td>267.342000</td>\n",
       "      <td>302.448000</td>\n",
       "      <td>865.000000</td>\n",
       "      <td>71772.000000</td>\n",
       "      <td>210508.000000</td>\n",
       "      <td>188411.000000</td>\n",
       "      <td>73839.000000</td>\n",
       "      <td>616.453000</td>\n",
       "    </tr>\n",
       "  </tbody>\n",
       "</table>\n",
       "</div>"
      ],
      "text/plain": [
       "       week_of_month  day_of_the_week  non_urgent_order  urgent_order  \\\n",
       "count      60.000000        60.000000         60.000000     60.000000   \n",
       "mean        3.016667         4.033333        172.554933    118.920850   \n",
       "std         1.282102         1.401775         69.505788     27.170929   \n",
       "min         1.000000         2.000000         43.651000     77.371000   \n",
       "25%         2.000000         3.000000        125.348000    100.888000   \n",
       "50%         3.000000         4.000000        151.062500    113.114500   \n",
       "75%         4.000000         5.000000        194.606500    132.108250   \n",
       "max         5.000000         6.000000        435.304000    223.270000   \n",
       "\n",
       "           orderA      orderB      orderC  fiscal_order  order_traffic  \\\n",
       "count   60.000000   60.000000   60.000000     60.000000      60.000000   \n",
       "mean    52.112217  109.229850  139.531250     77.396133   44504.350000   \n",
       "std     18.829911   50.741388   41.442932    186.502470   12197.905134   \n",
       "min     21.826000   25.125000   74.372000      0.000000   11992.000000   \n",
       "25%     39.456250   74.916250  113.632250      1.243250   34994.250000   \n",
       "50%     47.166500   99.482000  127.990000      7.831500   44312.000000   \n",
       "75%     58.463750  132.171000  160.107500     20.360750   52111.750000   \n",
       "max    118.178000  267.342000  302.448000    865.000000   71772.000000   \n",
       "\n",
       "       banking_order1  banking_order2  banking_order3      target  \n",
       "count       60.000000       60.000000       60.000000   60.000000  \n",
       "mean     46640.833333    79401.483333    23114.633333  300.873317  \n",
       "std      45220.736293    40504.420041    13148.039829   89.602041  \n",
       "min       3452.000000    16411.000000     7679.000000  129.412000  \n",
       "25%      20130.000000    50680.500000    12609.750000  238.195500  \n",
       "50%      32527.500000    67181.000000    18011.500000  288.034500  \n",
       "75%      45118.750000    94787.750000    31047.750000  334.237250  \n",
       "max     210508.000000   188411.000000    73839.000000  616.453000  "
      ]
     },
     "execution_count": 26,
     "metadata": {},
     "output_type": "execute_result"
    }
   ],
   "source": [
    "# Estatística descritiva dos dados\n",
    "demand.describe()"
   ]
  },
  {
   "cell_type": "markdown",
   "metadata": {},
   "source": [
    "### Análise Exploratória de Dados"
   ]
  },
  {
   "cell_type": "markdown",
   "metadata": {},
   "source": [
    "Para ter conhecimento do desempenho das vendas e, por conseguinte, traçar as metas mais adeaquadas, é importante conferir como se dá a distribuição do total de vendas de acordo com o dia da semana. Ccomo podermos observar abaixo, há uma tendência declinante na semana, em que as segundas-feiras apresentam o maior total de pedidos enquanto a sexta-feria possuir a menor."
   ]
  },
  {
   "cell_type": "code",
   "execution_count": 8,
   "metadata": {
    "scrolled": true
   },
   "outputs": [
    {
     "data": {
      "text/plain": [
       "day_of_the_week\n",
       "2    4292.364\n",
       "3    3647.181\n",
       "4    3665.064\n",
       "5    3287.619\n",
       "6    3160.171\n",
       "Name: target, dtype: float64"
      ]
     },
     "execution_count": 8,
     "metadata": {},
     "output_type": "execute_result"
    }
   ],
   "source": [
    "demand.groupby('day_of_the_week')['target'].sum()"
   ]
  },
  {
   "cell_type": "markdown",
   "metadata": {},
   "source": [
    "Analisamos abaixo a distribuição dos diferentes tipos de pedido realizados ao longo do recorte temporal. Podemos perceber que os pedidos do tipo B e C são mais elevados do que o pedido do tipo A. No entando, vale frisar que os pedidos B e C também apresentam valores discrepantes ( _outliers_ ), o que gera um valor médio de pedidos maior em relação ao pedido A."
   ]
  },
  {
   "cell_type": "code",
   "execution_count": 9,
   "metadata": {},
   "outputs": [
    {
     "data": {
      "image/png": "[encoded data removed]",
      "text/plain": [
       "<Figure size 432x288 with 1 Axes>"
      ]
     },
     "metadata": {
      "needs_background": "light"
     },
     "output_type": "display_data"
    }
   ],
   "source": [
    "sns.boxplot(x='variable',y='value',data=pd.melt(demand[['orderA','orderB', 'orderC']]));\n",
    "plt.xlabel('Orders');\n",
    "plt.ylabel('Value');\n",
    "plt.title('Distribuição dos tipos de pedido');"
   ]
  },
  {
   "cell_type": "code",
   "execution_count": 10,
   "metadata": {},
   "outputs": [
    {
     "name": "stdout",
     "output_type": "stream",
     "text": [
      "Valor médio do perdido A:  52.112216666666676\n",
      "Valor médio do perdido B:  109.22985\n",
      "Valor médio do perdido C:  139.53125000000003\n"
     ]
    }
   ],
   "source": [
    "print('Valor médio do perdido A: ',demand.orderA.mean())\n",
    "print('Valor médio do perdido B: ',demand.orderB.mean())\n",
    "print('Valor médio do perdido C: ',demand.orderC.mean())"
   ]
  },
  {
   "cell_type": "markdown",
   "metadata": {},
   "source": [
    "Outra forma de identificar a perfomance das vendas é identificar a urgência dos pedidos. Pelo gráficos de barras abaixo, podemos observar que os pedidos não-urgentes possuem uma média maior do que os pedidos urgentes, o que é compreensível até porque a soma total de pedidos não-urgentes é muito maior do que a de urgentes. "
   ]
  },
  {
   "cell_type": "code",
   "execution_count": 11,
   "metadata": {},
   "outputs": [
    {
     "data": {
      "image/png": "[encoded data removed]",
      "text/plain": [
       "<Figure size 432x288 with 1 Axes>"
      ]
     },
     "metadata": {
      "needs_background": "light"
     },
     "output_type": "display_data"
    }
   ],
   "source": [
    "sns.barplot(x='variable', y='value', data=pd.melt(demand[['non_urgent_order','urgent_order']]));\n",
    "plt.xlabel('Orders');\n",
    "plt.ylabel('Value');\n",
    "plt.title('Média dos tipos de pedido de acordo com a urgência');"
   ]
  },
  {
   "cell_type": "code",
   "execution_count": 12,
   "metadata": {},
   "outputs": [
    {
     "data": {
      "text/plain": [
       "non_urgent_order    10353.296\n",
       "urgent_order         7135.251\n",
       "dtype: float64"
      ]
     },
     "execution_count": 12,
     "metadata": {},
     "output_type": "execute_result"
    }
   ],
   "source": [
    "demand[['non_urgent_order','urgent_order']].sum()"
   ]
  },
  {
   "cell_type": "markdown",
   "metadata": {},
   "source": [
    "### Preparação dos dados"
   ]
  },
  {
   "cell_type": "markdown",
   "metadata": {},
   "source": [
    "A partir de agora, iremos fazer a preparação dos dados para o modelo de regressão linear. Primeiro, precisamos isolar a váriavel alvo ( _target variable_ ), no caso, o total de pedidos, deixando as demais variáveis como _features_ preditoras. \n",
    "\n",
    "Quanto à engenharia de _features_ ( _features engeneering_ ), o fato do _dataset_ se tratar de uma base de dados já tratada facilta consisderavelmente o trabalho, uma vez que a maior parte do tempo é despedida no tratamento e no pré-processamento dos dados. Tendo em vista que o _dataset_ possui poucas _features_ e poucas observações, decidiu-se por não adotar nenhuma técnica de redução de dimensionalidade, um passo crucial que influencia o desempenho de modelos de previsão, sobretudo quando se trata de _datasets_ grandes e com muitas _features_ (+50)."
   ]
  },
  {
   "cell_type": "code",
   "execution_count": 13,
   "metadata": {},
   "outputs": [],
   "source": [
    "x = demand.drop('target', axis=1)\n",
    "y = demand.target"
   ]
  },
  {
   "cell_type": "markdown",
   "metadata": {},
   "source": [
    "### Padronização"
   ]
  },
  {
   "cell_type": "markdown",
   "metadata": {},
   "source": [
    "Para garantir um resultado mais eficiente do modelo, é altamente recomendável a realização da padronização dos dados. Isso se justifica porque comumente as _features_ apresentam  grandezas diferentes, de maneira a se fazer necessário transformar os dados numa mesma escala.\n",
    "\n",
    "Aqui, utilizamos o _Standard Scaler_ uma ferramenta de padronização de dados do _Scikit Learn_ , que faz com que a média dos dados seja igual a 0 e o desvio padrão seja igual a 1."
   ]
  },
  {
   "cell_type": "code",
   "execution_count": 14,
   "metadata": {},
   "outputs": [],
   "source": [
    "scaler = StandardScaler()"
   ]
  },
  {
   "cell_type": "code",
   "execution_count": 15,
   "metadata": {},
   "outputs": [],
   "source": [
    "x_scaled = scaler.fit_transform(x)"
   ]
  },
  {
   "cell_type": "markdown",
   "metadata": {},
   "source": [
    "Antes de aplicar o algoritmo de regressão, realizamos a divisão do _dataset_ entre treino e teste. Para tal, usamos o `train_test_split` também do _Scikit Learn_ para realizar a divisão dos dados. Utilizamos uma proporção de 70% dos dados para treinamento e 30% para o teste, que é uma medida comumennte adotada (poderia também ser 80%/20%)."
   ]
  },
  {
   "cell_type": "code",
   "execution_count": 16,
   "metadata": {},
   "outputs": [],
   "source": [
    "X_treino, X_teste, Y_treino, Y_teste = train_test_split(x_scaled, y, test_size=0.3, random_state=42)    "
   ]
  },
  {
   "cell_type": "code",
   "execution_count": 17,
   "metadata": {},
   "outputs": [
    {
     "name": "stdout",
     "output_type": "stream",
     "text": [
      "(42, 12) (18, 12) (42,) (18,)\n"
     ]
    }
   ],
   "source": [
    "# Shape do dataset dividido\n",
    "print(X_treino.shape, X_teste.shape, Y_treino.shape, Y_teste.shape)"
   ]
  },
  {
   "cell_type": "markdown",
   "metadata": {},
   "source": [
    "### Modelo de regressão"
   ]
  },
  {
   "cell_type": "markdown",
   "metadata": {},
   "source": [
    "O problema que tentamos resolver aqui é um problema de regressão: dadas variáveis independentes, desejamos prever uma variável numérica dependente, no caso, o total de pedidos (`target`)\n",
    "\n",
    "Utilizaremos diferentes algotitmos e métricas de avaliação de desempenho para nosso modelo de predição do total de pedidos."
   ]
  },
  {
   "cell_type": "markdown",
   "metadata": {},
   "source": [
    "### Regressão Linear"
   ]
  },
  {
   "cell_type": "code",
   "execution_count": 18,
   "metadata": {},
   "outputs": [],
   "source": [
    "regression = LinearRegression()"
   ]
  },
  {
   "cell_type": "code",
   "execution_count": 19,
   "metadata": {},
   "outputs": [
    {
     "data": {
      "text/plain": [
       "LinearRegression()"
      ]
     },
     "execution_count": 19,
     "metadata": {},
     "output_type": "execute_result"
    }
   ],
   "source": [
    "regression.fit(X_treino, Y_treino)"
   ]
  },
  {
   "cell_type": "code",
   "execution_count": 27,
   "metadata": {},
   "outputs": [
    {
     "data": {
      "text/plain": [
       "array([539.577, 207.364, 530.944, 357.394, 363.402, 213.509, 346.035,\n",
       "       402.607, 308.178, 303.447, 259.246, 342.606, 323.603, 317.12 ,\n",
       "       188.601, 233.126, 344.291, 263.043])"
      ]
     },
     "execution_count": 27,
     "metadata": {},
     "output_type": "execute_result"
    }
   ],
   "source": [
    "pred = regression.predict(X_teste)\n",
    "pred"
   ]
  },
  {
   "cell_type": "code",
   "execution_count": 21,
   "metadata": {},
   "outputs": [
    {
     "data": {
      "text/plain": [
       "3.320929108557077e-27"
      ]
     },
     "execution_count": 21,
     "metadata": {},
     "output_type": "execute_result"
    }
   ],
   "source": [
    "mean_squared_error(Y_teste, pred)"
   ]
  },
  {
   "cell_type": "markdown",
   "metadata": {},
   "source": [
    "Podemos observar que nosso modelo possui um desempenho bastante satisfatório, uma vez que o resultado do _mean squared error_ (MSE), sendo uma métrica sempre estritamente não negativa, que funciona assim: quanto mais próximo de zero, melhor o desempenho do modelo, pois as diferenças entre as predições e os reais valores é menor.\n",
    "\n",
    "Esse valor sozinho não passa muitas informações, e portanto o MSE é melhor aproveitado ao comparar modelos. Por exemplo, podemos escolher o valor de 𝜆\n",
    "em uma regressão ridge ou LASSO que leve ao menor MSE."
   ]
  },
  {
   "cell_type": "markdown",
   "metadata": {},
   "source": [
    "### Ridge\n",
    "A regressão ridge é uma forma de regularizar a regressão linear, por meio do termo 𝜆 (alfa)que nos possibilita alterar o quanto queremos regularizar o modelo. Para 𝜆=0, a regressão ridge se torna uma regressão linear sem regularização. À medida que se aumenta o valor de 𝜆, mais regularizado se torna o modelo, ou seja, menores serão os valores de 𝛽 estimados.\n",
    "\n",
    "A potência da regressão ridge addvém justamente do _trade-off_ viés_variância. A regressão sem regularização (𝜆=0) possui grande variância e pouco viés. Conforme aumentamos 𝜆, a variância diminui a uma taxa maior do que o viés aumenta, reduzindo assim o MSE total."
   ]
  },
  {
   "cell_type": "code",
   "execution_count": 30,
   "metadata": {},
   "outputs": [],
   "source": [
    "ridge = Ridge(alpha=1, solver=\"cholesky\")"
   ]
  },
  {
   "cell_type": "code",
   "execution_count": 31,
   "metadata": {},
   "outputs": [
    {
     "data": {
      "text/plain": [
       "Ridge(alpha=1, solver='cholesky')"
      ]
     },
     "execution_count": 31,
     "metadata": {},
     "output_type": "execute_result"
    }
   ],
   "source": [
    "ridge.fit(X_treino, Y_treino)"
   ]
  },
  {
   "cell_type": "code",
   "execution_count": 33,
   "metadata": {},
   "outputs": [],
   "source": [
    "pred_ridge = ridge.predict(X_teste)"
   ]
  },
  {
   "cell_type": "code",
   "execution_count": 36,
   "metadata": {},
   "outputs": [
    {
     "data": {
      "text/plain": [
       "209.12517628431436"
      ]
     },
     "execution_count": 36,
     "metadata": {},
     "output_type": "execute_result"
    }
   ],
   "source": [
    "mean_squared_error(Y_teste, pred_ridge)"
   ]
  },
  {
   "cell_type": "markdown",
   "metadata": {},
   "source": [
    "A partir do resultado da métrica de validação `median_squared_error`, é preferível adotar o modelo de regressão linear padrão."
   ]
  },
  {
   "cell_type": "markdown",
   "metadata": {},
   "source": [
    "### Resultado"
   ]
  },
  {
   "cell_type": "markdown",
   "metadata": {},
   "source": [
    "A partir desse _dataset_ foi possível criarmos um modelo de regressão linear capaz de prever o total de pedidos diários de uma empresa de logística, um instrumento importatíssimo para o planejamento estratégico empresarial.\n",
    "\n",
    "À título de esclarecimento, vale destacar que para tornar esse modelo mais escalável, é fundamental qie a empresa tenha uma quantidade maior de dados para possibilitar um melhor treinamento do modelo e, portanto, um melhor calibramento das previsões. Para além da maturidade na cultura de dados requerida para deter esses dados históricos, é importante que haja o _deploy_ desse modelo em vista a torná-lo funcional e prestativo  uma tomada de decisões orientada a dados."
   ]
  }
 ],
 "metadata": {
  "kernelspec": {
   "display_name": "Python 3",
   "language": "python",
   "name": "python3"
  },
  "language_info": {
   "codemirror_mode": {
    "name": "ipython",
    "version": 3
   },
   "file_extension": ".py",
   "mimetype": "text/x-python",
   "name": "python",
   "nbconvert_exporter": "python",
   "pygments_lexer": "ipython3",
   "version": "3.7.6"
  }
 },
 "nbformat": 4,
 "nbformat_minor": 4
}
